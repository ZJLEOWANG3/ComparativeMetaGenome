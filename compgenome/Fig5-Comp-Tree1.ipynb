{
 "cells": [
  {
   "cell_type": "code",
   "execution_count": 1,
   "metadata": {},
   "outputs": [],
   "source": [
    "# To retrieve the gff & seq file in NCBI from the GTDB database for the family Methylococcaceae\n",
    "import os\n",
    "import matplotlib.pyplot\n",
    "import pandas as pd\n",
    "import numpy as np\n",
    "import subprocess\n",
    "from Bio import GenBank, SeqIO, AlignIO\n",
    "import json\n",
    "import re\n",
    "import time\n",
    "import ete3 # 3.1.2\n",
    "import matplotlib.pyplot as plt\n",
    "os.chdir(\"$PATHSorting/S2EBPR.CAS/ComparativeGenome\")"
   ]
  },
  {
   "cell_type": "code",
   "execution_count": 1,
   "metadata": {},
   "outputs": [],
   "source": [
    "import sys\n",
    "sys.path.append(\"$PATH/RamanomeSpec/scripts\")\n",
    "import Raman_tree"
   ]
  },
  {
   "attachments": {},
   "cell_type": "markdown",
   "metadata": {},
   "source": [
    "# Download Methylo family"
   ]
  },
  {
   "cell_type": "code",
   "execution_count": 32,
   "metadata": {},
   "outputs": [],
   "source": [
    "# read the downloaded GTDB accession\n",
    "GTDB = pd.read_csv(\"GTDB_Methy.tsv\",sep='\\t')\n",
    "# the reference\n",
    "# NCBI datasets: https://www.ncbi.nlm.nih.gov/genome/doc/ftpfaq/\n",
    "GTDB_NCBI = pd.read_csv(\"assembly_summary_genbank.txt\", #assembly_summary_refseq.txt\n",
    "                        sep='\\t',skiprows=1)"
   ]
  },
  {
   "cell_type": "code",
   "execution_count": 145,
   "metadata": {},
   "outputs": [
    {
     "name": "stdout",
     "output_type": "stream",
     "text": [
      "GCF_009828925.1 is not found in reference db\n",
      "Successfully downloaded\n"
     ]
    }
   ],
   "source": [
    "def download(GTDB,GTDB_NCBI,pout,download=False):\n",
    "    \"\"\"\n",
    "    GTDB :: the gtdb code of the strains we need\n",
    "    GTDB_NCBI :: the NCBI datasets for bacteria to be downloaded\n",
    "    pout :: the output path of json file, [GTDB code] = (NCBI org name, GTDB taxonomy - strain name)\n",
    "    \"\"\"\n",
    "    # download fna and faa files\n",
    "    dict_name = {} # accession number = key, NCBI strain name = value\n",
    "    accession = GTDB_NCBI['gbrs_paired_asm'].astype(str)\n",
    "    assemblyid = GTDB_NCBI.iloc[:,0].astype(str)\n",
    "    ftp = GTDB_NCBI['ftp_path']\n",
    "    \n",
    "    for i in range(GTDB.shape[0]):\n",
    "        entry = GTDB.iloc[i,0] # the entry from GTDB to NCBI\n",
    "        ftpi = ftp.loc[np.logical_or(entry == accession,entry==assemblyid)]\n",
    "        try:\n",
    "            ftpi = ftpi.tolist()[0] # Series to str\n",
    "            name = ftpi.split('/')[-1] # gbtk accession number\n",
    "            name2 = name[3:].split(\".\")[0] # part of gbtk code to avoid inmatch of GCF/GCA and version .1.2.3 \n",
    "            dict_name[name2] = (GTDB[\"ncbi_organism_name\"][i],\\\n",
    "                                GTDB[\"gtdb_taxonomy\"][i].split(\"; s__\")[-1],\\\n",
    "                               GTDB[\"accession\"][i]) # align file name and strain name\n",
    "            #dict_name[name] = (GTDB[\"ncbi_organism_name\"][i],GTDB[\"gtdb_taxonomy\"][i].split(\"; s__\")[-1]) # align file name and strain name\n",
    "            if download==True:\n",
    "                for s in ['_cds_from_genomic.fna.gz','_protein.faa.gz']:\n",
    "                    subprocess.run(\"curl --remote-name --remote-time {}/{}{}\".format(ftpi,name,s),shell=True)\n",
    "        except IndexError:\n",
    "            print(\"{} is not found in reference db\".format(entry))\n",
    "    with open(pout,'w') as f:\n",
    "        json.dump(dict_name,f)\n",
    "\n",
    "    # gunzip the downloaded faa and fna\n",
    "    subprocess.run(\"gunzip -f *.gz\",shell=True)\n",
    "    print(\"Successfully downloaded\")\n",
    "    \n",
    "download(GTDB,GTDB_NCBI,\"file_strain.json\")"
   ]
  },
  {
   "attachments": {},
   "cell_type": "markdown",
   "metadata": {},
   "source": [
    "## annotate bin0"
   ]
  },
  {
   "cell_type": "code",
   "execution_count": 60,
   "metadata": {},
   "outputs": [
    {
     "name": "stdout",
     "output_type": "stream",
     "text": [
      "Successfully Annotated\n"
     ]
    }
   ],
   "source": [
    "def annotate(pin,pout):\n",
    "    \"\"\"\n",
    "    Annotation for bin_0.fna file via KO; the bin_0 is not cds_from_genomics, so require this tep\n",
    "    pin :: input path for fna file\n",
    "    pout :: output path for annotated fna file\n",
    "    \"\"\"\n",
    "    # \n",
    "    # subprocess.run([\"curl\",\"https://rest.kegg.jp/list/ko\",\">\",\\\n",
    "    #                 \"/Users/zijianleowang/Desktop/Projects_in_Cornell/RACE/comparative_genomics/ko2ec.txt\"])\n",
    "    C2ko = pd.read_csv(\"./koall/bin_0/bin_0/ko_mapping.tsv\",sep='\\t',header=None) # from C_000000 to K02667\n",
    "    Ko2EC = pd.read_csv(\"./ko2ec.txt\",sep='\\t',header=None) # from C_000000 to K02667\n",
    "    Ko2EC[0] = Ko2EC[0].str.replace(\"ko:\",\"\")\n",
    "    f = open(pout,'w') # output file for annotated genes\n",
    "    for seq in SeqIO.parse(pin,format='fasta'):\n",
    "        try:\n",
    "            ko = C2ko[C2ko[0]==seq.description][1].values[0]\n",
    "            description = Ko2EC[Ko2EC[0]==ko][1].values[0]\n",
    "            seq.description = description\n",
    "            SeqIO.write(seq,f,'fasta')\n",
    "        except IndexError:\n",
    "            \"C_00000 not found in bin_0\"\n",
    "    print(\"Successfully Annotated\")\n",
    "    \n",
    "annotate(\"bin_0.fna\",\"./bin_0.annotated.fna\")"
   ]
  },
  {
   "cell_type": "code",
   "execution_count": 188,
   "metadata": {},
   "outputs": [],
   "source": [
    "def get_kseq(pin,MAGsdir):\n",
    "    \"\"\"\n",
    "    get the sequence of customized keywords\n",
    "    pin :: input path of dict [GTDB code] = NCBI strain name\n",
    "    MAGsdir: the dir saving all MAGs\n",
    "\n",
    "    output data: list of tuples, tuple ([genus species strain name, genus species name, gtdb accession number], relevant sequences)\n",
    "\n",
    "    \"\"\"\n",
    "    # get data : (strain name, seq object lists with polyphosphate like ppk, ppx)\n",
    "    with open(pin,'r') as f:\n",
    "        dict_name = json.loads( f.readlines()[0] )\n",
    "\n",
    "    data = []\n",
    "    for strain in os.scandir(MAGsdir): \n",
    "        if (not strain.name.startswith(\".DS\") and strain.name.endswith(\"cds_from_genomic.fna\")) or \"bin_0.annotated.fna\" in strain.name:\n",
    "            seqs = [] # save genes about polyphosphate\n",
    "            for seq in SeqIO.parse(strain.path,format='fasta'):\n",
    "\n",
    "                # save the polyphosphate and p transport relevant genes\n",
    "                if \"permease\" in seq.description and \"phosphate\" in seq.description: # pstA/C\n",
    "                    seqs.append(seq)\n",
    "                if \"signaling\" in seq.description and \"phosphate\" in seq.description: # phoU in NCBI\n",
    "                    seqs.append(seq)\n",
    "                if \"phoU\" in seq.description and \"phosphate\" in seq.description: # phoU in bin_0\n",
    "                    seqs.append(seq)\n",
    "                if \"inorganic\" in seq.description and \"phosphate\" in seq.description: # pit\n",
    "                    seqs.append(seq)\n",
    "                if \"substrate-binding\" in seq.description and \"phosphate\" in seq.description: # pstS\n",
    "                    seqs.append(seq)\n",
    "                if \"ATP-binding\" in seq.description and \"phosphate\" in seq.description and \"ugpC\" not in seq.description: # pstB\n",
    "                    seqs.append(seq)\n",
    "                if 'polyphos' in seq.description: # ppk1, ppk2, ppx, pap, ppgk\n",
    "                    seqs.append(seq)\n",
    "\n",
    "                # save the methane relevant genes\n",
    "                # if 'methane monooxygenase' in seq.description: # pmo-amo or mmo\n",
    "                #     seqs.append(seq)\n",
    "                # if \"methanol\" in seq.description:    \n",
    "                # #if 'methanol dehydrogenase' in seq.description or \"alcohol oxidase\" in seq.description:\n",
    "                #     seqs.append(seq)\n",
    "                #     # print(seq.description)\n",
    "                \n",
    "            # assign name\n",
    "            prefix = strain.name.split(\"_cds_from_genomic.fna\")[0] # GTDB code from fna dir\n",
    "            if \"bin_0\" not in prefix:\n",
    "                prefix = prefix[3:].split(\".\")[0] # part of gbtk code to avoid inmatch of GCF/GCA and version .1.2.3 \n",
    "            try:\n",
    "                name = dict_name[prefix]\n",
    "            except KeyError:\n",
    "                if \"bin_0\" in prefix:\n",
    "                    name = [\"bin_0\",'bin_0',\"bin_0\"]\n",
    "            data.append(( name, seqs))\n",
    "    # save the GCF - Name\n",
    "    f = open(\"dict_name.json\",'w')\n",
    "    json.dump(dict_name,fp=f)\n",
    "    f.close()\n",
    "    return data\n",
    "\n",
    "data = get_kseq(\"./file_strain.json\",\"./MAGs/\")\n"
   ]
  },
  {
   "cell_type": "code",
   "execution_count": 191,
   "metadata": {},
   "outputs": [],
   "source": [
    "def get_df(data):\n",
    "    \"\"\"\n",
    "    extract the sequences of strains\n",
    "    Polyphosphate-AMP phosphotransferase (PAP) and polyphosphate kinase (PPK) \n",
    "    were used for designing a novel ATP regeneration system, named the PAP-PPK ATP \n",
    "    regeneration system. PAP is an enzyme that catalyzes the phospho-conversion of AMP to ADP, \n",
    "    and PPK catalyzes ATP formation from ADP.\n",
    "    \"\"\"\n",
    "    df = pd.DataFrame(np.zeros((len(data),23)),\\\n",
    "                      columns=['strain_name','gtdb_name','gtdb_accession','ppk1','ppk2','ppx','pap','pit','phoU','pstS','pstA_C','pstB','ppgk',\n",
    "                               'seqppk1','seqppk2','seqppx','seqpap','seqpit','seqphoU','seqpstS','seqpstA_C','seqpstB','seqppgk'\\\n",
    "                              ],\\\n",
    "                      dtype=object)\n",
    "    for i in range(len(data)): # i-th strain\n",
    "        sn,gn,gtdb_accession = data[i][0]# strain name, gtdb_name, gtdb_acession\n",
    "        \n",
    "        df[\"strain_name\"][i] = sn\n",
    "        df[\"gtdb_name\"][i] = gn\n",
    "        df[\"gtdb_accession\"][i] = gtdb_accession\n",
    "        for seq in data[i][1]: # get gene information\n",
    "            des = seq.description # the description string\n",
    "            dna = seq.seq\n",
    "            try:\n",
    "                protein = re.findall(r'\\[protein=(.*?)\\]',des)[0]\n",
    "            except IndexError: # bin_0 starts with c_0000 and has different format compare to NCBI data\n",
    "                protein = des\n",
    "\n",
    "            try:\n",
    "                gene = re.findall(r'\\[gene=(.*?)\\]',des)[0]\n",
    "            except IndexError: # no gene field found\n",
    "                if \"ppk1\" in protein or \"polyphosphate kinase\" in protein:\n",
    "                    gene = \"ppk1\"\n",
    "                elif \"ppx\" in protein or \"exopolyphosphatase\" in protein:\n",
    "                    gene = \"ppx\"\n",
    "                elif 'kinase 2' in protein or \"ppk2\" in protein:\n",
    "                    gene = 'ppk2'\n",
    "                elif \"inorganic\" in protein:\n",
    "                    gene = 'pit'\n",
    "                elif \"signaling\" in protein or \"phoU\" in protein:\n",
    "                    gene = 'phoU'\n",
    "                elif \"substrate\" in protein:\n",
    "                    gene = 'pstS'\n",
    "                elif \"permease\" in protein:\n",
    "                    gene = 'pstA_C'\n",
    "                elif \"ATP\" in protein:\n",
    "                    gene = 'pstB'\n",
    "                elif \"glucokinase\" in protein:\n",
    "                    gene = 'ppgk'\n",
    "\n",
    "            if gene =='pstA' or gene == 'pstC':\n",
    "                gene = 'pstA_C'\n",
    "            \n",
    "            try:\n",
    "                df[gene][i] = 1\n",
    "                df['seq{}'.format(gene)][i] = dna\n",
    "            except KeyError: # \n",
    "                print('wrong key')\n",
    "    # remove duplicates\n",
    "    df = df.drop_duplicates(\"gtdb_name\")\n",
    "    return df\n",
    "\n",
    "df = get_df(data)"
   ]
  },
  {
   "attachments": {},
   "cell_type": "markdown",
   "metadata": {},
   "source": [
    "## Save the processed genetic information: whether there is ppk1, ppk2, etc. and their sequences"
   ]
  },
  {
   "cell_type": "code",
   "execution_count": 192,
   "metadata": {},
   "outputs": [],
   "source": [
    "df.to_csv(\"genes.seqs.csv\")"
   ]
  },
  {
   "cell_type": "code",
   "execution_count": 134,
   "metadata": {},
   "outputs": [
    {
     "name": "stdout",
     "output_type": "stream",
     "text": [
      "Successfully saved the fasta files of various genes in the selected strain list\n"
     ]
    }
   ],
   "source": [
    "# save df to fasta\n",
    "def save(df,genelist):\n",
    "    for gene in genelist:\n",
    "        f = open(\"%s.fasta\"%gene,'w')\n",
    "        for i in range(df.shape[0]): # i denotes the strain\n",
    "            YOR = df[gene].iloc[i] # gene exists or not\n",
    "            if YOR == 1:\n",
    "                seq = str(df['seq%s'%gene].iloc[i])\n",
    "                name = df['strain_name'].iloc[i].split(\" \")[:3]\n",
    "                name = \"_\".join(name)\n",
    "                print(\">%s\\n%s\\n\"%(name,seq),file=f)\n",
    "    f.close()\n",
    "    print(\"Successfully saved the fasta files of various genes in the selected strain list\")\n",
    "genelist = [\"ppk1\",\"ppk2\",\"ppx\",\"pap\",'pit','phoU','pstS','pstA_C','pstB']\n",
    "save(df,genelist)"
   ]
  },
  {
   "attachments": {},
   "cell_type": "markdown",
   "metadata": {},
   "source": [
    "# Create all the phosphorus-relevant genes tree xml"
   ]
  },
  {
   "cell_type": "code",
   "execution_count": 35,
   "metadata": {},
   "outputs": [
    {
     "data": {
      "text/plain": [
       "CompletedProcess(args=['/Users/zijianleowang/raxml-ng_v1.1.0_macos_x86_64/raxml-ng', '--seed', '12338', '--model', 'GTR', '--msa', 'allPgenes.aligned.fasta', '--prefix', 'allPgenes', '--redo'], returncode=0)"
      ]
     },
     "execution_count": 35,
     "metadata": {},
     "output_type": "execute_result"
    }
   ],
   "source": [
    "Pname = 'allPgenes'\n",
    "# combine all of the genes together \n",
    "df = pd.read_csv(\"genes.seqs.csv\",index_col=0)\n",
    "col = df.columns.tolist()\n",
    "col = [i for i in col if 'seq' in i]\n",
    "df2 = df[col].apply(\"\".join,axis=1)\n",
    "df2 = df2.str.replace(\"0.0\",\"\")\n",
    "df2.name = Pname\n",
    "df3 = df.copy().drop(labels=col,axis=1)\n",
    "dfall = pd.concat([df3,df2],axis=1)\n",
    "\n",
    "# save the data\n",
    "f = open(\"%s.fasta\"%Pname,'w')\n",
    "for i in range(dfall.shape[0]):\n",
    "    seq = str(dfall[Pname].iloc[i])\n",
    "    name = dfall[\"strain_name\"].iloc[i].split(\" \")[:3]\n",
    "    name = \"_\".join(name)\n",
    "    print(\">%s\\n%s\\n\"%(name,seq),file=f)\n",
    "f.close()\n",
    "\n",
    "# align the seq\n",
    "subprocess.run(\"mafft %s.fasta > %s.aligned.fasta\"%(Pname,Pname),shell=True)\n",
    "# create tree\n",
    "subprocess.run([\"/Users/zijianleowang/raxml-ng_v1.1.0_macos_x86_64/raxml-ng\", \"--seed\", \"12338\", \"--model\", \"GTR\", \n",
    "                        \"--msa\", \"%s.aligned.fasta\"%Pname, \"--prefix\",\"%s\"%Pname,\"--redo\"])"
   ]
  },
  {
   "attachments": {},
   "cell_type": "markdown",
   "metadata": {},
   "source": [
    "# Visualize each of the gene trees"
   ]
  },
  {
   "cell_type": "code",
   "execution_count": 135,
   "metadata": {},
   "outputs": [
    {
     "name": "stdout",
     "output_type": "stream",
     "text": [
      "Successfully created the tree \n"
     ]
    }
   ],
   "source": [
    "def create_tree(genelist,):\n",
    "    \"\"\"\n",
    "    align the sequence and create the tree\n",
    "    \"\"\"\n",
    "    # Align the sequences\n",
    "    # using MAFFT\n",
    "    # https://mafft.cbrc.jp/alignment/software/macstandard.html\n",
    "    for gene in genelist:\n",
    "        subprocess.run(\"mafft %s.fasta > %s.aligned.fasta\"%(gene,gene),\\\n",
    "                       shell=True) #[\"mafft\",\"%s.fasta\"%gene,\">\",\"%s.aligned.fasta\"%gene]\n",
    "        #time.sleep(2)\n",
    "    # RAXML-ng to compute distance\n",
    "    # https://github.com/amkozlov/raxml-ng/releases\n",
    "    # https://formulae.brew.sh/formula/raxml-ng\n",
    "    success = []\n",
    "    fail = []\n",
    "    for gene in genelist:\n",
    "        i = 0\n",
    "        with open(\"%s.aligned.fasta\"%gene,'r') as f:\n",
    "            for line in f:\n",
    "                if line.startswith(\">\"):\n",
    "                    i += 1\n",
    "        if i >4: # create tree if it has at least 4 strains\n",
    "            success.append(gene)\n",
    "            subprocess.run([\"/Users/zijianleowang/raxml-ng_v1.1.0_macos_x86_64/raxml-ng\", \"--seed\", \"12338\", \"--model\", \"GTR\", \n",
    "                        \"--msa\", \"%s.aligned.fasta\"%gene, \"--prefix\",\"%s\"%gene,\"--redo\"])\n",
    "        else:\n",
    "            fail.append(gene)\n",
    "    print(\"Successfully created the tree \")\n",
    "    return success, fail\n",
    "genelist = [\"ppk1\",\"ppk2\",\"ppx\",\"pap\",'pit','phoU','pstS','pstA_C','pstB']\n",
    "success, fail = create_tree(genelist)"
   ]
  },
  {
   "cell_type": "code",
   "execution_count": 88,
   "metadata": {},
   "outputs": [],
   "source": [
    "def viz_tree(success,df,pathin,pathout):\n",
    "    \"\"\"\n",
    "    visualize the trees \n",
    "    \"\"\"\n",
    "    # generate the genus name\n",
    "    taxname = []\n",
    "    for i in range(df.shape[0]):\n",
    "        name = df['strain_name'].iloc[i].split(\" \")[:2]\n",
    "        name = \"_\".join(name)\n",
    "        taxname.append(name)\n",
    "    genus = [i.split('_')[0] for i in taxname]\n",
    "    genus = sorted(set(genus))\n",
    "    print(len(genus),\"genus\")\n",
    "    # generate color range\n",
    "    color = [\"#D1BBD7\",\"#AE76A3\",\"#BB2E72\",\"#196580\",\"#5289C7\",\"#7BAFDE\",\"#4EB265\",\"#90C987\",\\\n",
    "            \"#CAE0AB\",\"#F7F056\",\"#F6C141\",\"#F1932D\",\"#E8601C\",\"#DC050C\",\"#777777\",\"#666666\",\"#03fcec\"]\n",
    "    dict_gc = {}\n",
    "    for i, g in enumerate(genus):\n",
    "        dict_gc[g] = color[i] # dictionary of genus to color\n",
    "    with open(\"dict_gc.json\",'w') as f:\n",
    "        json.dump(dict_gc,fp=f)\n",
    "    # ETE3 to visualize tree\n",
    "    trees = []\n",
    "    for gene in success:\n",
    "        in_path=os.path.join(pathin,\"%s.raxml.bestTree\"%gene)\n",
    "        print(in_path)\n",
    "        tree = Raman_tree.read_tree(in_path,\n",
    "                                    sep=\"_\",\n",
    "                                    special={\"bin_0\":\"M. multiphosphori\"},\n",
    "                                    title=gene)\n",
    "        tree.set_color_range(dict_gc)\n",
    "        tree.tree_g.render(os.path.join(pathout,\"%s_tree.png\"%gene),\n",
    "                    tree_style=tree.ts,w=3000,dpi=600)\n",
    "\n",
    "        trees.append(tree)\n",
    "    # save the label legend\n",
    "    # plot dict_gc\n",
    "\n",
    "    fig, ax = plt.subplots(1,1,figsize=(2,10))\n",
    "    plt.axis('off') \n",
    "    x1, x2 = 0, 1\n",
    "    k = list(dict_gc.keys())#keys\n",
    "\n",
    "    ax.set_xlim((-.5,1.5))\n",
    "    ax.set_ylim((-1,19))\n",
    "\n",
    "    for i in np.arange(len(k)):\n",
    "        ax.fill_between((x1,x2),i,i+1,color=dict_gc[k[i]])\n",
    "        ax.text(x1-.5,i+.5,k[i],ha='right',fontweight='bold',fontsize='xx-large',fontstyle='italic')\n",
    "    fig.savefig(os.path.join(pathout,'Label.png'),\n",
    "                bbox_inches='tight',quality=300)\n",
    "    plt.close()\n",
    "\n",
    "    return trees"
   ]
  },
  {
   "cell_type": "code",
   "execution_count": 153,
   "metadata": {},
   "outputs": [
    {
     "name": "stdout",
     "output_type": "stream",
     "text": [
      "17 genus\n",
      "./Tree/Newick_FASTA/ppk1.raxml.bestTree\n",
      "./Tree/Newick_FASTA/ppk2.raxml.bestTree\n",
      "./Tree/Newick_FASTA/ppx.raxml.bestTree\n",
      "./Tree/Newick_FASTA/pit.raxml.bestTree\n",
      "./Tree/Newick_FASTA/phoU.raxml.bestTree\n",
      "./Tree/Newick_FASTA/pstA_C.raxml.bestTree\n",
      "./Tree/Newick_FASTA/pstB.raxml.bestTree\n",
      "./Tree/Newick_FASTA/pstS.raxml.bestTree\n",
      "./Tree/Newick_FASTA/pap.raxml.bestTree\n",
      "./Tree/Newick_FASTA/allPgenes.raxml.bestTree\n"
     ]
    }
   ],
   "source": [
    "imp.reload(Raman_tree)\n",
    "df = pd.read_csv(\"genes.seqs.csv\",index_col=0)\n",
    "genelists = [\"ppk1\",\"ppk2\",\"ppx\",\"pit\",\"phoU\",\"pstA_C\",\"pstB\",\"pstS\",\"pap\",\"allPgenes\"]\n",
    "trees = viz_tree(genelists,df,\n",
    "         pathin=\"./Tree/Newick_FASTA/\",\n",
    "         pathout=\"Tree/Image/\")"
   ]
  }
 ],
 "metadata": {
  "kernelspec": {
   "display_name": "Python 3",
   "language": "python",
   "name": "python3"
  },
  "language_info": {
   "codemirror_mode": {
    "name": "ipython",
    "version": 3
   },
   "file_extension": ".py",
   "mimetype": "text/x-python",
   "name": "python",
   "nbconvert_exporter": "python",
   "pygments_lexer": "ipython3",
   "version": "3.8.9"
  }
 },
 "nbformat": 4,
 "nbformat_minor": 4
}
