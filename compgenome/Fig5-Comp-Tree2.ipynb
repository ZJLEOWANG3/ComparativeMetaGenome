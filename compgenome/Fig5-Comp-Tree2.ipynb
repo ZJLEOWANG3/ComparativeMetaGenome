{
 "cells": [
  {
   "cell_type": "code",
   "execution_count": 2,
   "metadata": {},
   "outputs": [],
   "source": [
    "import os\n",
    "from Bio import Phylo\n",
    "import matplotlib.pyplot as plt\n",
    "import pandas as pd\n",
    "import numpy as np\n",
    "from ete3 import Tree\n",
    "import json\n",
    "import re"
   ]
  },
  {
   "cell_type": "code",
   "execution_count": 14,
   "metadata": {},
   "outputs": [],
   "source": [
    "import sys\n",
    "sys.path.append(\"$PATH/RamanomeSpec/scripts\")\n",
    "import Raman_tree\n",
    "os.chdir(\"$PATH/ComparativeGenome\")"
   ]
  },
  {
   "attachments": {},
   "cell_type": "markdown",
   "metadata": {},
   "source": [
    "## Compute marker gene trees by finding node in GTDB dataset"
   ]
  },
  {
   "cell_type": "code",
   "execution_count": 4,
   "metadata": {},
   "outputs": [],
   "source": [
    "p = \"../ComparativeGenome/GTDB_Database/gtdbtk.bac120.classify.tree\" # GTDBTK tree profile based on all marker genes\n",
    "p2 = \"../ComparativeGenome/GTDB_Database/gtdb-search.csv\" # the GTDB barcode ~ name, downloaded from GTDB dataset search results via Methylococcaceae"
   ]
  },
  {
   "attachments": {},
   "cell_type": "markdown",
   "metadata": {},
   "source": [
    "## New"
   ]
  },
  {
   "cell_type": "code",
   "execution_count": 84,
   "metadata": {},
   "outputs": [],
   "source": [
    "imp.reload(Raman_tree)\n",
    "# https://github.com/etetoolkit/ete/issues/194\n",
    "tree = Raman_tree.read_tree(p,title=\"all\",formatete3=1,quoted_node_names=True)\n",
    "leafnames = tree.tree_g.get_leaf_names()\n",
    "df = pd.read_csv(\"./genes.seqs.csv\",index_col=0)\n",
    "gtdb = pd.read_csv(\"./GTDB_Database/gtdb-search.csv\")\n",
    "with open(\"./dict_gc.json\",\"r\") as f:\n",
    "    dict_gc = json.load(f)"
   ]
  },
  {
   "cell_type": "code",
   "execution_count": 120,
   "metadata": {},
   "outputs": [
    {
     "name": "stdout",
     "output_type": "stream",
     "text": [
      "not found:  []\n",
      "23\n",
      "['RS_GCF_000496735.2', 'RS_GCF_002072955.1', 'RS_GCF_008632455.1', 'GB_GCA_002256705.1', 'RS_GCF_000934725.1', 'RS_GCF_000527095.1', 'RS_GCF_006175985.1', 'RS_GCF_000968535.2', 'RS_GCF_000384075.1', 'GCA_000785705.2', 'RS_GCF_000424685.1', 'GCA_000214275.3', 'bin_0', 'RS_GCF_003584645.1', 'RS_GCF_002923755.1', 'RS_GCF_001312005.1', 'RS_GCF_000733855.1', 'RS_GCF_000190755.2', 'RS_GCF_000733935.1', 'RS_GCF_000383855.1', 'RS_GCF_000372865.1', 'RS_GCF_001312345.1', 'RS_GCF_000963695.1']\n"
     ]
    }
   ],
   "source": [
    "# get the node name in db that matches the one I need to find\n",
    "accessions = [] # save the node to be remained\n",
    "accessions_dict = {} # save the node (accession number, strain name) pair\n",
    "accessions_color_dict = {} # save the node (accession number,color) pair via dict_gc\n",
    "notfound = []\n",
    "i = 0\n",
    "n, d = df.shape\n",
    "for i in range(n):\n",
    "    strain = df[\"strain_name\"].iloc[i]\n",
    "    name = df[\"gtdb_accession\"].iloc[i]\n",
    "# for strain,name in df[[\"strain_name\",\"gtdb_accession\"]]: # name I have\n",
    "    tempi = i\n",
    "    for namei in leafnames: # name in gtdb database\n",
    "        \n",
    "        # because of database differences, match only key part between _ and .\n",
    "        if name != \"bin_0\":\n",
    "            namepart = name[4:-2]\n",
    "        else:\n",
    "            namepart = name\n",
    "\n",
    "        if namepart in namei:\n",
    "            accessions.append(namei)\n",
    "            if strain == \"bin_0\":\n",
    "                accessions_dict[namei] = \"Methylobacter multiphosphori\" \n",
    "                accessions_color_dict[namei] = dict_gc[strain.split(\"_\")[0]]\n",
    "            else:\n",
    "                accessions_dict[namei] = strain\n",
    "                accessions_color_dict[namei] = dict_gc[strain.split(\" \")[0]] # get the color via genus name\n",
    "            i += 1 \n",
    "            break\n",
    "    if tempi == i :\n",
    "        notfound.append(name)\n",
    "\n",
    "print(\"not found: \", notfound)\n",
    "print(len(accessions))\n",
    "print(accessions)\n",
    "with open(\"./accessions_color_dict.json\",\"w\") as f:\n",
    "    json.dump(accessions_color_dict,f)"
   ]
  },
  {
   "cell_type": "code",
   "execution_count": 129,
   "metadata": {},
   "outputs": [
    {
     "name": "stdout",
     "output_type": "stream",
     "text": [
      "1.0\n",
      "0.165\n",
      "1.0\n",
      "1.0_f__Methylococcaceae\n",
      "0.937\n",
      "1.0\n",
      "1.0_g__Methylovulum\n",
      "0.686\n",
      "0.729\n",
      "0.912\n",
      "1.0\n",
      "1.0\n",
      "0.531\n",
      "1.0\n",
      "1.0\n",
      "0.98\n",
      "0.788\n",
      "0.999\n",
      "1.0\n"
     ]
    },
    {
     "data": {
      "text/plain": [
       "'done'"
      ]
     },
     "execution_count": 129,
     "metadata": {},
     "output_type": "execute_result"
    }
   ],
   "source": [
    "# get the selected nodes and save\n",
    "imp.reload(Raman_tree)\n",
    "\n",
    "temptree = tree.tree_g.copy()\n",
    "temptree.prune(accessions) # remain only selected leaf by prune\n",
    "temptree.write(format=1, outfile=\"./Tree/Newick_FASTA/marker-gene-tree.newick\")\n",
    "\n",
    "# load the marker gene tree and plot\n",
    "markertree = Raman_tree.read_tree(\"./Tree/Newick_FASTA/marker-gene-tree.newick\",\n",
    "                     special=accessions_dict,\n",
    "                     title=\"marker gene tree\")\n",
    "\n",
    "with open(\"./accessions_color_dict.json\",\"r\") as f:\n",
    "    accessions_color_dict = json.load(f)\n",
    "\n",
    "markertree.set_color_range(accessions_color_dict,\n",
    "                           nametype=\"accession\")\n",
    "markertree.tree_g.render(\"./Tree/Image/marker_tree.png\",\n",
    "                    tree_style=markertree.ts,w=3000,dpi=600)\n",
    "\n",
    "\"done\"\n"
   ]
  },
  {
   "attachments": {},
   "cell_type": "markdown",
   "metadata": {},
   "source": [
    "# Viz the Evolution Blomberg K"
   ]
  },
  {
   "cell_type": "code",
   "execution_count": 9,
   "metadata": {},
   "outputs": [
    {
     "data": {
      "image/png": "[encoded data removed]",
      "text/plain": [
       "<Figure size 432x144 with 1 Axes>"
      ]
     },
     "metadata": {
      "needs_background": "light"
     },
     "output_type": "display_data"
    }
   ],
   "source": [
    "# after R markdown for the correlation statistics\n",
    "def add_sig(ax,sig,x,y):\n",
    "    \"\"\"\n",
    "    add siginificance to ax; \n",
    "    sig :: series object of siginificance p value\n",
    "    x :: x values in figure\n",
    "    y :: y values in figure \n",
    "    make sure ax and se in same order\n",
    "    \"\"\"\n",
    "    for i,sigi in enumerate(sig):\n",
    "        star = ''\n",
    "        while sigi<=0.05:\n",
    "            star += \"*\"\n",
    "            sigi /= 10\n",
    "            if sigi<0.05/1e4:\n",
    "                break\n",
    "        ax.text(x[i]-.2,y[i]*1.05,star)\n",
    "    \n",
    "# Plot here\n",
    "def main(fileprefix=\"TRUEcorrelation\"):\n",
    "    pil = os.listdir(\"./comparative_genomics/\")# path input list\n",
    "    pil = [i for i in pil if fileprefix in i and 'png' not in i]\n",
    "    pil = ['TRUEcorrelation0.4_final.csv']\n",
    "    for p in pil:\n",
    "        corr = pd.read_csv(\"./comparative_genomics/%s\"%p,index_col=0)\n",
    "        corr.index = ['P-value','Blomberg K Statistic']\n",
    "        corr.columns = corr.columns.to_series().apply(lambda x: x.split(\".\")[0].replace(\"_\",\"/\")).values#.apply(), split(expand=True).\n",
    "        d,n = corr.shape # \n",
    "        x = np.arange(n)\n",
    "        y = corr.iloc[1,:]\n",
    "        sig = corr.iloc[0,:]\n",
    "        fig, ax = plt.subplots(1,1,figsize=(6,2))\n",
    "        y.plot(x=x,kind='bar',ax=ax,ec='k',fc='pink',width=.3)\n",
    "        ax.set_xticklabels(labels=ax.get_xticklabels(),rotation=45,ha='right',fontsize='large')\n",
    "        ax.set_ylabel(\"Blomberg K statistic\",fontsize='large')\n",
    "        parameter = p.replace(fileprefix,\"\").replace(\".csv\",\"\")\n",
    "        ax.set_title(\"Comparative Phylogenetic Correlation\"+\\\n",
    "                     \"w/ \\n Transformation of Ornstein–Uhlenbeck process\")\n",
    "#         ax.legend(labels=[\"$\\mu$=%s\"%parameter])\n",
    "        add_sig(ax,sig,x,y)\n",
    "        ax.set_ylim((0,y.max()*1.2))\n",
    "        xlim = ax.get_xlim()\n",
    "        labels = ax.get_xticklabels()\n",
    "        ax.hlines(1,xlim[0],xlim[1],linestyles='dashed',linewidth=1)\n",
    "        fig.savefig(\"./comparative_genomics/%s\"%(p+\".png\"),bbox_inches='tight',dpi=600)\n",
    "# main(\"correlation\")\n",
    "main(\"TRUEcorrelation\")"
   ]
  }
 ],
 "metadata": {
  "kernelspec": {
   "display_name": "Python 3",
   "language": "python",
   "name": "python3"
  },
  "language_info": {
   "codemirror_mode": {
    "name": "ipython",
    "version": 3
   },
   "file_extension": ".py",
   "mimetype": "text/x-python",
   "name": "python",
   "nbconvert_exporter": "python",
   "pygments_lexer": "ipython3",
   "version": "3.8.3"
  }
 },
 "nbformat": 4,
 "nbformat_minor": 4
}
