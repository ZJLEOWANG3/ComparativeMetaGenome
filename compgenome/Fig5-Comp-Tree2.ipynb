{
 "cells": [
  {
   "cell_type": "markdown",
   "metadata": {},
   "source": [
    "## Visualize the Evolution Blomberg K using statistics from R markdown file"
   ]
  },
  {
   "cell_type": "code",
   "execution_count": 2,
   "metadata": {},
   "outputs": [],
   "source": [
    "import os\n",
    "from Bio import Phylo\n",
    "import matplotlib.pyplot as plt\n",
    "import pandas as pd\n",
    "import numpy as np\n",
    "from ete3 import Tree\n",
    "import json\n",
    "import re\n",
    "import sys"
   ]
  },
  {
   "cell_type": "code",
   "execution_count": 19,
   "metadata": {},
   "outputs": [
    {
     "data": {
      "image/png": "[encoded data removed]",
      "text/plain": [
       "<Figure size 432x144 with 1 Axes>"
      ]
     },
     "metadata": {
      "needs_background": "light"
     },
     "output_type": "display_data"
    }
   ],
   "source": [
    "# after R markdown for the correlation statistics\n",
    "def add_sig(ax,sig,x,y):\n",
    "    \"\"\"\n",
    "    add siginificance to ax; \n",
    "    sig :: series object of siginificance p value\n",
    "    x :: x values in figure\n",
    "    y :: y values in figure \n",
    "    make sure ax and se in same order\n",
    "    \"\"\"\n",
    "    for i,sigi in enumerate(sig):\n",
    "        star = ''\n",
    "        while sigi<=0.05:\n",
    "            star += \"*\"\n",
    "            sigi /= 10\n",
    "            if sigi<0.05/1e4:\n",
    "                break\n",
    "        ax.text(x[i]-.2,y[i]*1.05,star)\n",
    "    \n",
    "# Plot here\n",
    "def main(fileprefix=\"TRUEcorrelation\"):\n",
    "    pil = os.listdir(\"./comparative_genomics/\")# path input list\n",
    "    pil = [i for i in pil if fileprefix in i and 'png' not in i]\n",
    "    pil = ['TRUEcorrelation0.6.csv']\n",
    "    for p in pil:\n",
    "        corr = pd.read_csv(\"./comparative_genomics/%s\"%p,index_col=0)\n",
    "        corr.index = ['P-value','Blomberg K Statistic']\n",
    "        corr.columns = corr.columns.to_series().apply(lambda x: x.split(\".\")[0].replace(\"_\",\"/\")).values#.apply(), split(expand=True).\n",
    "        d,n = corr.shape # \n",
    "        x = np.arange(n)\n",
    "        y = corr.iloc[1,:]\n",
    "        sig = corr.iloc[0,:]\n",
    "        fig, ax = plt.subplots(1,1,figsize=(6,2))\n",
    "        y.plot(x=x,kind='bar',ax=ax,ec='k',fc='pink',width=.3)\n",
    "        ax.set_xticklabels(labels=ax.get_xticklabels(),rotation=45,ha='right',fontsize='large')\n",
    "        ax.set_ylabel(\"Blomberg K statistic\",fontsize='large')\n",
    "        parameter = p.replace(fileprefix,\"\").replace(\".csv\",\"\")\n",
    "        ax.set_title(\"Comparative Phylogenetic Correlation\"+\\\n",
    "                     \"w/ \\n Transformation of Ornstein–Uhlenbeck process\")\n",
    "        ax.legend(labels=[\"$\\mu$=%s\"%parameter])\n",
    "        add_sig(ax,sig,x,y)\n",
    "        ax.set_ylim((0,y.max()*1.2))\n",
    "        xlim = ax.get_xlim()\n",
    "        labels = ax.get_xticklabels()\n",
    "        ax.hlines(1,xlim[0],xlim[1],linestyles='dashed',linewidth=1)\n",
    "        fig.savefig(\"./comparative_genomics/%s\"%(p+\".png\"),bbox_inches='tight',dpi=600)\n",
    "# main(\"correlation\")\n",
    "main(\"TRUEcorrelation\")"
   ]
  }
 ],
 "metadata": {
  "kernelspec": {
   "display_name": "Python 3",
   "language": "python",
   "name": "python3"
  },
  "language_info": {
   "codemirror_mode": {
    "name": "ipython",
    "version": 3
   },
   "file_extension": ".py",
   "mimetype": "text/x-python",
   "name": "python",
   "nbconvert_exporter": "python",
   "pygments_lexer": "ipython3",
   "version": "3.8.3"
  }
 },
 "nbformat": 4,
 "nbformat_minor": 4
}
